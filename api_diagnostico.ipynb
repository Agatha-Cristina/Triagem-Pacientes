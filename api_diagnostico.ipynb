{
  "nbformat": 4,
  "nbformat_minor": 0,
  "metadata": {
    "colab": {
      "provenance": []
    },
    "kernelspec": {
      "name": "python3",
      "display_name": "Python 3"
    },
    "language_info": {
      "name": "python"
    }
  },
  "cells": [
    {
      "cell_type": "code",
      "source": [
        "!pip install flask-ngrok"
      ],
      "metadata": {
        "colab": {
          "base_uri": "https://localhost:8080/"
        },
        "id": "JkPnKEoX7lfI",
        "outputId": "9bc046c4-2f24-445b-d930-220e8c93e5df"
      },
      "execution_count": 20,
      "outputs": [
        {
          "output_type": "stream",
          "name": "stdout",
          "text": [
            "Requirement already satisfied: flask-ngrok in /usr/local/lib/python3.11/dist-packages (0.0.25)\n",
            "Requirement already satisfied: Flask>=0.8 in /usr/local/lib/python3.11/dist-packages (from flask-ngrok) (3.1.1)\n",
            "Requirement already satisfied: requests in /usr/local/lib/python3.11/dist-packages (from flask-ngrok) (2.32.3)\n",
            "Requirement already satisfied: blinker>=1.9.0 in /usr/local/lib/python3.11/dist-packages (from Flask>=0.8->flask-ngrok) (1.9.0)\n",
            "Requirement already satisfied: click>=8.1.3 in /usr/local/lib/python3.11/dist-packages (from Flask>=0.8->flask-ngrok) (8.2.1)\n",
            "Requirement already satisfied: itsdangerous>=2.2.0 in /usr/local/lib/python3.11/dist-packages (from Flask>=0.8->flask-ngrok) (2.2.0)\n",
            "Requirement already satisfied: jinja2>=3.1.2 in /usr/local/lib/python3.11/dist-packages (from Flask>=0.8->flask-ngrok) (3.1.6)\n",
            "Requirement already satisfied: markupsafe>=2.1.1 in /usr/local/lib/python3.11/dist-packages (from Flask>=0.8->flask-ngrok) (3.0.2)\n",
            "Requirement already satisfied: werkzeug>=3.1.0 in /usr/local/lib/python3.11/dist-packages (from Flask>=0.8->flask-ngrok) (3.1.3)\n",
            "Requirement already satisfied: charset-normalizer<4,>=2 in /usr/local/lib/python3.11/dist-packages (from requests->flask-ngrok) (3.4.2)\n",
            "Requirement already satisfied: idna<4,>=2.5 in /usr/local/lib/python3.11/dist-packages (from requests->flask-ngrok) (3.10)\n",
            "Requirement already satisfied: urllib3<3,>=1.21.1 in /usr/local/lib/python3.11/dist-packages (from requests->flask-ngrok) (2.4.0)\n",
            "Requirement already satisfied: certifi>=2017.4.17 in /usr/local/lib/python3.11/dist-packages (from requests->flask-ngrok) (2025.6.15)\n"
          ]
        }
      ]
    },
    {
      "cell_type": "code",
      "source": [
        "!pip install pyngrok --quiet"
      ],
      "metadata": {
        "id": "DJL-Db3B8ixp"
      },
      "execution_count": 21,
      "outputs": []
    },
    {
      "cell_type": "code",
      "source": [
        "import numpy as np\n",
        "\n",
        "def diagnostico(sintomas):\n",
        "    # Febre, Tosse, Fadiga, Dificuldade em respirar, Idade, Gênero, Pressão arterial, Nível de colesterol\n",
        "\n",
        "    sintomas = np.array(sintomas).reshape(1, -1)\n",
        "    probabilidades = modelo.predict_proba(sintomas)\n",
        "    classes = modelo.classes_\n",
        "\n",
        "    top_n = 3\n",
        "    top_doencas = np.argsort(probabilidades[0])[-top_n:][::-1]\n",
        "\n",
        "    resultado = {\n",
        "        \"entrada\": sintomas[0].tolist(),\n",
        "        \"top_diagnosticos\": []\n",
        "    }\n",
        "\n",
        "    for idx in top_doencas:\n",
        "        resultado[\"top_diagnosticos\"].append({\n",
        "            \"doenca\": classes[idx],\n",
        "            \"probabilidade\": float(round(probabilidades[0][idx], 4))  # ou em porcentagem: round(... * 100, 2)\n",
        "        })\n",
        "\n",
        "    return resultado\n"
      ],
      "metadata": {
        "id": "39z0od4ll0cJ"
      },
      "execution_count": 22,
      "outputs": []
    },
    {
      "cell_type": "code",
      "source": [
        "def input_to_list(json):\n",
        "    sintomas_name = ['febre', 'tosse', 'fadiga', 'dificuldade_em_respirar', 'idade', 'genero', 'pressao_arterial', 'nivel_de_colesterol']\n",
        "    resultado = []\n",
        "    for item in sintomas_name:\n",
        "        resultado.append(json[item])\n",
        "    return resultado\n"
      ],
      "metadata": {
        "id": "z9g8a1Yuwa9A"
      },
      "execution_count": 23,
      "outputs": []
    },
    {
      "cell_type": "code",
      "source": [
        "# sintomas = [1, 0, 1, 1, 19, 0, 0, 1]\n",
        "# sintomas = input_to_list({'febre': 1, 'tosse': 0, 'fadiga': 1, 'dificuldade_em_respirar': 1, 'idade': 19, 'genero': 0, 'pressao_arterial': 0, 'nivel_de_colesterol': 1})\n",
        "# diagnostico(sintomas)\n"
      ],
      "metadata": {
        "colab": {
          "base_uri": "https://localhost:8080/",
          "height": 297
        },
        "id": "s21QPF7_qqQE",
        "outputId": "119f50a1-8641-410a-a836-73907b25019a"
      },
      "execution_count": 24,
      "outputs": [
        {
          "output_type": "error",
          "ename": "NameError",
          "evalue": "name 'modelo' is not defined",
          "traceback": [
            "\u001b[0;31m---------------------------------------------------------------------------\u001b[0m",
            "\u001b[0;31mNameError\u001b[0m                                 Traceback (most recent call last)",
            "\u001b[0;32m/tmp/ipython-input-24-1887903170.py\u001b[0m in \u001b[0;36m<cell line: 0>\u001b[0;34m()\u001b[0m\n\u001b[1;32m      1\u001b[0m \u001b[0;31m# sintomas = [1, 0, 1, 1, 19, 0, 0, 1]\u001b[0m\u001b[0;34m\u001b[0m\u001b[0;34m\u001b[0m\u001b[0m\n\u001b[1;32m      2\u001b[0m \u001b[0msintomas\u001b[0m \u001b[0;34m=\u001b[0m \u001b[0minput_to_list\u001b[0m\u001b[0;34m(\u001b[0m\u001b[0;34m{\u001b[0m\u001b[0;34m'febre'\u001b[0m\u001b[0;34m:\u001b[0m \u001b[0;36m1\u001b[0m\u001b[0;34m,\u001b[0m \u001b[0;34m'tosse'\u001b[0m\u001b[0;34m:\u001b[0m \u001b[0;36m0\u001b[0m\u001b[0;34m,\u001b[0m \u001b[0;34m'fadiga'\u001b[0m\u001b[0;34m:\u001b[0m \u001b[0;36m1\u001b[0m\u001b[0;34m,\u001b[0m \u001b[0;34m'dificuldade_em_respirar'\u001b[0m\u001b[0;34m:\u001b[0m \u001b[0;36m1\u001b[0m\u001b[0;34m,\u001b[0m \u001b[0;34m'idade'\u001b[0m\u001b[0;34m:\u001b[0m \u001b[0;36m19\u001b[0m\u001b[0;34m,\u001b[0m \u001b[0;34m'genero'\u001b[0m\u001b[0;34m:\u001b[0m \u001b[0;36m0\u001b[0m\u001b[0;34m,\u001b[0m \u001b[0;34m'pressao_arterial'\u001b[0m\u001b[0;34m:\u001b[0m \u001b[0;36m0\u001b[0m\u001b[0;34m,\u001b[0m \u001b[0;34m'nivel_de_colesterol'\u001b[0m\u001b[0;34m:\u001b[0m \u001b[0;36m1\u001b[0m\u001b[0;34m}\u001b[0m\u001b[0;34m)\u001b[0m\u001b[0;34m\u001b[0m\u001b[0;34m\u001b[0m\u001b[0m\n\u001b[0;32m----> 3\u001b[0;31m \u001b[0mdiagnostico\u001b[0m\u001b[0;34m(\u001b[0m\u001b[0msintomas\u001b[0m\u001b[0;34m)\u001b[0m\u001b[0;34m\u001b[0m\u001b[0;34m\u001b[0m\u001b[0m\n\u001b[0m",
            "\u001b[0;32m/tmp/ipython-input-22-3308712228.py\u001b[0m in \u001b[0;36mdiagnostico\u001b[0;34m(sintomas)\u001b[0m\n\u001b[1;32m      5\u001b[0m \u001b[0;34m\u001b[0m\u001b[0m\n\u001b[1;32m      6\u001b[0m     \u001b[0msintomas\u001b[0m \u001b[0;34m=\u001b[0m \u001b[0mnp\u001b[0m\u001b[0;34m.\u001b[0m\u001b[0marray\u001b[0m\u001b[0;34m(\u001b[0m\u001b[0msintomas\u001b[0m\u001b[0;34m)\u001b[0m\u001b[0;34m.\u001b[0m\u001b[0mreshape\u001b[0m\u001b[0;34m(\u001b[0m\u001b[0;36m1\u001b[0m\u001b[0;34m,\u001b[0m \u001b[0;34m-\u001b[0m\u001b[0;36m1\u001b[0m\u001b[0;34m)\u001b[0m\u001b[0;34m\u001b[0m\u001b[0;34m\u001b[0m\u001b[0m\n\u001b[0;32m----> 7\u001b[0;31m     \u001b[0mprobabilidades\u001b[0m \u001b[0;34m=\u001b[0m \u001b[0mmodelo\u001b[0m\u001b[0;34m.\u001b[0m\u001b[0mpredict_proba\u001b[0m\u001b[0;34m(\u001b[0m\u001b[0msintomas\u001b[0m\u001b[0;34m)\u001b[0m\u001b[0;34m\u001b[0m\u001b[0;34m\u001b[0m\u001b[0m\n\u001b[0m\u001b[1;32m      8\u001b[0m     \u001b[0mclasses\u001b[0m \u001b[0;34m=\u001b[0m \u001b[0mmodelo\u001b[0m\u001b[0;34m.\u001b[0m\u001b[0mclasses_\u001b[0m\u001b[0;34m\u001b[0m\u001b[0;34m\u001b[0m\u001b[0m\n\u001b[1;32m      9\u001b[0m \u001b[0;34m\u001b[0m\u001b[0m\n",
            "\u001b[0;31mNameError\u001b[0m: name 'modelo' is not defined"
          ]
        }
      ]
    },
    {
      "cell_type": "code",
      "execution_count": null,
      "metadata": {
        "colab": {
          "base_uri": "https://localhost:8080/"
        },
        "id": "SG6J6X8FjDUd",
        "outputId": "7ce4d5af-25f4-4cee-8fd2-4435fbd69566"
      },
      "outputs": [
        {
          "output_type": "stream",
          "name": "stdout",
          "text": [
            "🚀 URL pública: NgrokTunnel: \"https://fb1293fcc508.ngrok-free.app\" -> \"http://localhost:5000\"\n",
            " * Serving Flask app '__main__'\n",
            " * Debug mode: off\n"
          ]
        }
      ],
      "source": [
        "from flask import Flask, request, jsonify\n",
        "from pyngrok import ngrok, conf\n",
        "\n",
        "import joblib\n",
        "import pandas as pd\n",
        "import logging\n",
        "\n",
        "with open('/content/drive/MyDrive/data_bases/token.txt', 'r', encoding='utf-8') as f:\n",
        "    conteudo = f.read()\n",
        "\n",
        "ngrok.set_auth_token(conteudo)\n",
        "\n",
        "\n",
        "conf.get_default().log_event_callback = lambda log: None\n",
        "# Silenciar logs do Flask (werkzeug) e erros do Colab\n",
        "logging.getLogger('werkzeug').setLevel(logging.ERROR)\n",
        "logging.getLogger('root').setLevel(logging.CRITICAL)\n",
        "\n",
        "# Iniciar o túnel manualmente\n",
        "public_url = ngrok.connect(5000)\n",
        "print(f\"🚀 URL pública: {public_url}\")\n",
        "\n",
        "app = Flask(__name__)\n",
        "\n",
        "modelo = joblib.load('/content/drive/MyDrive/data_bases/modelo_triagem.pkl')\n",
        "\n",
        "@app.route('/prever', methods=['POST'])\n",
        "def prever():\n",
        "    dados = request.get_json()\n",
        "    sintomas = input_to_list(dados)\n",
        "    resultado = diagnostico(sintomas)\n",
        "    return jsonify( resultado)\n",
        "\n",
        "app.run()\n"
      ]
    }
  ]
}